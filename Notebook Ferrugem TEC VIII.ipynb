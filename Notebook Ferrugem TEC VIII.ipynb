{
  "nbformat": 4,
  "nbformat_minor": 0,
  "metadata": {
    "colab": {
      "provenance": []
    },
    "kernelspec": {
      "name": "python3",
      "display_name": "Python 3"
    },
    "language_info": {
      "name": "python"
    }
  },
  "cells": [
    {
      "cell_type": "code",
      "execution_count": null,
      "metadata": {
        "colab": {
          "base_uri": "https://localhost:8080/"
        },
        "id": "HUSBeobjUZp0",
        "outputId": "ade3f3f8-2569-45d1-8f09-3c11bd239058"
      },
      "outputs": [
        {
          "output_type": "stream",
          "name": "stdout",
          "text": [
            "output 1.0\n"
          ]
        }
      ],
      "source": [
        "import tensorflow as tf\n",
        "def mcculloh_pits_neuron(inputs,weights,threshold):\n",
        "    weighted_sum = tf.reduce_sum(tf.multiply(inputs,weights))\n",
        "    output = tf.cond(weighted_sum >= threshold,lambda:1.0,lambda:0.0)\n",
        "    return output\n",
        "\n",
        "inputs = tf.constant([0,1],dtype=tf.float32)\n",
        "weights = tf.constant([1,1],dtype=tf.float32)\n",
        "threshold = tf.constant(1.0,dtype=tf.float32)\n",
        "output = mcculloh_pits_neuron(inputs,weights,threshold)\n",
        "print(\"output\",output)"
      ]
    }
  ]
}