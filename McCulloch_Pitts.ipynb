{
  "nbformat": 4,
  "nbformat_minor": 0,
  "metadata": {
    "colab": {
      "provenance": [],
      "toc_visible": true,
      "include_colab_link": true
    },
    "kernelspec": {
      "name": "python3",
      "display_name": "Python 3"
    },
    "language_info": {
      "name": "python"
    }
  },
  "cells": [
    {
      "cell_type": "markdown",
      "metadata": {
        "id": "view-in-github",
        "colab_type": "text"
      },
      "source": [
        "<a href=\"https://colab.research.google.com/github/TulioIsaak/Python-Studies/blob/main/McCulloch_Pitts.ipynb\" target=\"_parent\"><img src=\"https://colab.research.google.com/assets/colab-badge.svg\" alt=\"Open In Colab\"/></a>"
      ]
    },
    {
      "cell_type": "code",
      "execution_count": null,
      "metadata": {
        "colab": {
          "base_uri": "https://localhost:8080/"
        },
        "id": "HUSBeobjUZp0",
        "outputId": "407afb61-74e1-4b10-89a9-3c990d3de685"
      },
      "outputs": [
        {
          "output_type": "stream",
          "name": "stdout",
          "text": [
            "output 1.0\n"
          ]
        }
      ],
      "source": [
        "import tensorflow as tf\n",
        "def mcculloh_pits_neuron(inputs,weights,threshold):\n",
        "    weighted_sum = tf.reduce_sum(tf.multiply(inputs,weights))\n",
        "    output = tf.cond(weighted_sum >= threshold,lambda:1.0,lambda:0.0)\n",
        "    return output\n",
        "\n",
        "inputs = tf.constant([0,1],dtype=tf.float32)\n",
        "weights = tf.constant([1,1],dtype=tf.float32)\n",
        "threshold = tf.constant(1.0,dtype=tf.float32)\n",
        "output = mcculloh_pits_neuron(inputs,weights,threshold)\n",
        "print(\"output\",output)"
      ]
    },
    {
      "cell_type": "markdown",
      "source": [
        "and"
      ],
      "metadata": {
        "id": "LsAVsxf37wgZ"
      }
    },
    {
      "cell_type": "code",
      "source": [
        "inputs = tf.constant([0,1],dtype=tf.float32)\n",
        "weights = tf.constant([1,1],dtype=tf.float32)\n",
        "threshold = tf.constant(1.5,dtype=tf.float32)\n",
        "output = mcculloh_pits_neuron(inputs,weights,threshold)\n",
        "print(\"output\",output)"
      ],
      "metadata": {
        "colab": {
          "base_uri": "https://localhost:8080/"
        },
        "id": "pdzsxI5u70yq",
        "outputId": "8583fa4c-36ed-4138-da27-ea015bedcbf7"
      },
      "execution_count": null,
      "outputs": [
        {
          "output_type": "stream",
          "name": "stdout",
          "text": [
            "output 0.0\n"
          ]
        }
      ]
    },
    {
      "cell_type": "markdown",
      "source": [
        "or"
      ],
      "metadata": {
        "id": "CXfzPEJ9-YHB"
      }
    },
    {
      "cell_type": "code",
      "source": [
        "inputs = tf.constant([0,1],dtype=tf.float32)\n",
        "weights = tf.constant([1,1],dtype=tf.float32)\n",
        "threshold = tf.constant(0.5,dtype=tf.float32)\n",
        "output = mcculloh_pits_neuron(inputs,weights,threshold)\n",
        "print(\"output\",output)"
      ],
      "metadata": {
        "colab": {
          "base_uri": "https://localhost:8080/"
        },
        "id": "VkVhf8EE-Zto",
        "outputId": "7f77c33d-bf01-460a-be85-561e48c0162f"
      },
      "execution_count": null,
      "outputs": [
        {
          "output_type": "stream",
          "name": "stdout",
          "text": [
            "output 1.0\n"
          ]
        }
      ]
    },
    {
      "cell_type": "markdown",
      "source": [
        "not"
      ],
      "metadata": {
        "id": "yLSt-rXQ9vip"
      }
    },
    {
      "cell_type": "code",
      "source": [
        "inputs = tf.constant([0],dtype=tf.float32)\n",
        "weights = tf.constant([-1],dtype=tf.float32)\n",
        "threshold = tf.constant(-0.5,dtype=tf.float32)\n",
        "output = mcculloh_pits_neuron(inputs,weights,threshold)\n",
        "print(\"output\",output)"
      ],
      "metadata": {
        "colab": {
          "base_uri": "https://localhost:8080/"
        },
        "id": "UoSluRKg91lM",
        "outputId": "d3c1e6e2-448f-406d-bc9a-22a5f05df239"
      },
      "execution_count": null,
      "outputs": [
        {
          "output_type": "stream",
          "name": "stdout",
          "text": [
            "output 1.0\n"
          ]
        }
      ]
    }
  ]
}